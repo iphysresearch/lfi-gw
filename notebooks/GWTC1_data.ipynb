{
 "cells": [
  {
   "cell_type": "markdown",
   "metadata": {},
   "source": [
    "# Step.0 环境准备"
   ]
  },
  {
   "cell_type": "markdown",
   "metadata": {},
   "source": [
    "1. Clone [https://github.com/iphysresearch/lfi-gw.git](https://github.com/iphysresearch/lfi-gw.git)\n",
    "2. 根据 repo 中 readme 里所写安装 Setup：（或根据你的环境情况确保程序包都可用亦可）\n",
    "  >Create and activate a conda environment with the correct software dependencies:\n",
    "  >  ```shell\n",
    "    conda env create -f environment.yml\n",
    "    conda activate gwml\n",
    "    ```\n",
    "3. 打开 `./notebook` 文件夹中的本 jupyter notebook，按顺序执行 Step.1 -> Step.2 -> Step.3 (脚本)，即可。"
   ]
  },
  {
   "cell_type": "markdown",
   "metadata": {},
   "source": [
    "---\n",
    "# Step.1 下载数据信息\n",
    "\n",
    "\n",
    "- Load Libs"
   ]
  },
  {
   "cell_type": "code",
   "execution_count": 1,
   "metadata": {},
   "outputs": [
    {
     "name": "stderr",
     "output_type": "stream",
     "text": [
      "PyCBC.libutils: pkg-config call failed, setting NO_PKGCONFIG=1\n"
     ]
    }
   ],
   "source": [
    "import os\n",
    "import numpy as np\n",
    "import pandas as pd\n",
    "import matplotlib.pyplot as plt\n",
    "%matplotlib inline\n",
    "import urllib\n",
    "import json\n",
    "import h5py\n",
    "from pathlib import Path\n",
    "\n",
    "from scipy.signal import tukey\n",
    "\n",
    "from gwpy.timeseries import TimeSeries\n",
    "import pycbc.psd"
   ]
  },
  {
   "cell_type": "markdown",
   "metadata": {},
   "source": [
    "- 选定一个 event，生成对应的数据集\n",
    "  - O1 中有三个，O2 中有 7 个（GW170817 暂时不考虑）"
   ]
  },
  {
   "cell_type": "code",
   "execution_count": 2,
   "metadata": {},
   "outputs": [
    {
     "name": "stdout",
     "output_type": "stream",
     "text": [
      "['H1', 'L1']\n"
     ]
    }
   ],
   "source": [
    "## GWTC1\n",
    "\n",
    "# O1\n",
    "# event = 'GW150914'\n",
    "# event = 'GW151012'\n",
    "event = 'GW151226'\n",
    "\n",
    "# O2\n",
    "# event = 'GW170104'\n",
    "# event = 'GW170608'\n",
    "# event = 'GW170729'\n",
    "# event = 'GW170809'\n",
    "# event = 'GW170814'\n",
    "## event = 'GW170817'  # 这个事件暂时忽略，不考虑\n",
    "# event = 'GW170818'\n",
    "# event = 'GW170823'\n",
    "\n",
    "# 这部分代码会从网络上自动下载 JSON 数据\n",
    "\n",
    "f = urllib.request.urlopen('https://www.gw-openscience.org/eventapi/json/allevents/')\n",
    "allevents = json.loads(f.read())['events']\n",
    "\n",
    "event_version = sorted([key for key, value in allevents.items() if event in key.split('-')[0]], \n",
    "                       key=lambda x: int(x.split('-')[-1][-1]), reverse=True)[0]\n",
    "assert allevents[event_version]['commonName'] == event\n",
    "\n",
    "# detectors\n",
    "f = urllib.request.urlopen(allevents[event_version]['jsonurl'])\n",
    "events_meta = json.loads(f.read())['events'][event_version]\n",
    "\n",
    "detectors=sorted(list(set([meta['detector'] for meta in events_meta['strain']])))\n",
    "print(detectors)"
   ]
  },
  {
   "cell_type": "code",
   "execution_count": 3,
   "metadata": {},
   "outputs": [],
   "source": [
    "# events_meta#.keys()"
   ]
  },
  {
   "cell_type": "code",
   "execution_count": 4,
   "metadata": {},
   "outputs": [],
   "source": [
    "# allevents[event_version]#.keys()"
   ]
  },
  {
   "cell_type": "code",
   "execution_count": 5,
   "metadata": {},
   "outputs": [],
   "source": [
    "t_event = events_meta['GPS'] # GPS time of coalescence\n",
    "\n",
    "T = 8.0  # number of seconds to analyze in a segment\n",
    "T_psd = 1024.0  # number of seconds of data for estimating PSD\n",
    "T_buffer = 2.0  # buffer time after the event to include"
   ]
  },
  {
   "cell_type": "code",
   "execution_count": 22,
   "metadata": {},
   "outputs": [
    {
     "name": "stdout",
     "output_type": "stream",
     "text": [
      "1\n",
      "1\n"
     ]
    }
   ],
   "source": [
    "# 这部分代码会从网络上自动下载数据\n",
    "\n",
    "i = -1 # -1 for original\n",
    "while True: # 确保 PSD 数据中无异常值\n",
    "    try: \n",
    "\n",
    "        h1_event = TimeSeries.fetch_open_data('H1', t_event + T_buffer - T, t_event + T_buffer, cache=True)\n",
    "        l1_event = TimeSeries.fetch_open_data('L1', t_event + T_buffer - T, t_event + T_buffer, cache=True)\n",
    "\n",
    "        # To calculate the PSD, take data before the event segment\n",
    "        h1_psd = TimeSeries.fetch_open_data('H1', t_event + T_buffer - T+ i*T_psd, t_event + T_buffer - T + (i+1)*T_psd, cache=True)\n",
    "        l1_psd = TimeSeries.fetch_open_data('L1', t_event + T_buffer - T+ i*T_psd, t_event + T_buffer - T + (i+1)*T_psd, cache=True)\n",
    "        assert False == (True in np.isnan(h1_psd.value))\n",
    "        assert False == (True in np.isnan(l1_psd.value))\n",
    "        \n",
    "        if len(detectors) == 3:\n",
    "            v1_event = TimeSeries.fetch_open_data('V1', t_event + T_buffer - T, t_event + T_buffer, cache=True)\n",
    "            v1_psd = TimeSeries.fetch_open_data('V1', t_event + T_buffer - T+ i*T_psd, t_event + T_buffer - T + (i+1)*T_psd, cache=True)        \n",
    "            assert False == (True in np.isnan(v1_psd.value))\n",
    "    except:\n",
    "        i += 1\n",
    "    else:\n",
    "        break\n",
    "    finally:\n",
    "        print(i)"
   ]
  },
  {
   "cell_type": "code",
   "execution_count": 23,
   "metadata": {},
   "outputs": [],
   "source": [
    "# Check sampling frequency\n",
    "f_s = len(h1_event)/T\n",
    "assert f_s == 4096"
   ]
  },
  {
   "cell_type": "code",
   "execution_count": 24,
   "metadata": {},
   "outputs": [],
   "source": [
    "# Convert to pycbc TimeSeries objects.\n",
    "h1_event = h1_event.to_pycbc()\n",
    "l1_event = l1_event.to_pycbc()\n",
    "\n",
    "h1_psd = h1_psd.to_pycbc()\n",
    "l1_psd = l1_psd.to_pycbc()\n",
    "\n",
    "if len(detectors) == 3:\n",
    "    v1_event = v1_event.to_pycbc()\n",
    "    v1_psd = v1_psd.to_pycbc()"
   ]
  },
  {
   "cell_type": "code",
   "execution_count": 25,
   "metadata": {},
   "outputs": [],
   "source": [
    "# Window function\n",
    "roll_off = 0.4\n",
    "alpha = 2 * roll_off / T\n",
    "\n",
    "w = tukey(int(T * f_s), alpha)"
   ]
  },
  {
   "cell_type": "code",
   "execution_count": 26,
   "metadata": {},
   "outputs": [],
   "source": [
    "# PSD estimation\n",
    "h1_psd = pycbc.psd.estimate.welch(h1_psd, seg_len=int(T * f_s), seg_stride=int(T * f_s), window=w, avg_method='median')\n",
    "l1_psd = pycbc.psd.estimate.welch(l1_psd, seg_len=int(T * f_s), seg_stride=int(T * f_s), window=w, avg_method='median')\n",
    "if len(detectors) == 3:\n",
    "    v1_psd = pycbc.psd.estimate.welch(l1_psd, seg_len=int(T * f_s), seg_stride=int(T * f_s), window=w, avg_method='median')"
   ]
  },
  {
   "cell_type": "code",
   "execution_count": 33,
   "metadata": {},
   "outputs": [
    {
     "data": {
      "text/plain": [
       "(8193,)"
      ]
     },
     "execution_count": 33,
     "metadata": {},
     "output_type": "execute_result"
    }
   ],
   "source": [
    "psd_bayeswave_h1.shape"
   ]
  },
  {
   "cell_type": "code",
   "execution_count": 37,
   "metadata": {},
   "outputs": [
    {
     "data": {
      "image/png": "[encoded data removed]",
      "text/plain": [
       "<Figure size 432x288 with 1 Axes>"
      ]
     },
     "metadata": {
      "needs_background": "light"
     },
     "output_type": "display_data"
    }
   ],
   "source": [
    "### For comparison to estimated PSD.\n",
    "# I downloaded this data file from GWOSC\n",
    "# https://dcc.ligo.org/LIGO-P1900011/public\n",
    "psd_bayeswave = np.loadtxt('../data/psds/GWTC1_{}_PSDs.dat'.format(event))\n",
    "\n",
    "# Add a final point at 1024 Hz\n",
    "psd_bayeswave = np.append(psd_bayeswave, np.reshape(psd_bayeswave[-1], (1,3)), axis=0)\n",
    "psd_bayeswave[-1,0] = 1024.0\n",
    "psd_bayeswave_h1 = pycbc.psd.from_numpy_arrays(psd_bayeswave[:,0], psd_bayeswave[:,1], 8193, 1/8, 20.0)\n",
    "psd_bayeswave_l1 = pycbc.psd.from_numpy_arrays(psd_bayeswave[:,0], psd_bayeswave[:,2], 8193, 1/8, 20.0)\n",
    "\n",
    "#plt.figure(figsize=(15,11))\n",
    "plt.plot(psd_bayeswave_h1.sample_frequencies, psd_bayeswave_h1, label='BayesWave_h1')\n",
    "plt.plot(psd_bayeswave_l1.sample_frequencies, psd_bayeswave_l1, label='BayesWave_l1')\n",
    "plt.plot(h1_psd.sample_frequencies, h1_psd, label='Estimated_h1')\n",
    "plt.plot(l1_psd.sample_frequencies, l1_psd, label='Estimated_l1')\n",
    "if len(detectors) == 3:\n",
    "    psd_bayeswave_v1 = pycbc.psd.from_numpy_arrays(psd_bayeswave[:,0], psd_bayeswave[:,3], 8193, 1/8, 20.0)\n",
    "    plt.plot(psd_bayeswave_v1.sample_frequencies, psd_bayeswave_v1, label='BayesWave_v1')\n",
    "    plt.plot(v1_psd.sample_frequencies, v1_psd, label='Estimated_v1')\n",
    "plt.yscale('log')\n",
    "plt.xlim((950,1024))\n",
    "plt.ylim((1e-47, 1e-39))\n",
    "plt.legend()\n",
    "plt.xlabel('frequency (Hz)')\n",
    "plt.ylabel('1/Hz')\n",
    "plt.show()"
   ]
  },
  {
   "cell_type": "markdown",
   "metadata": {},
   "source": [
    "- 可以简单检查一下上图， Estimated PSDs 是不是和 BayesWave 有一个大致不错的拟合。"
   ]
  },
  {
   "cell_type": "code",
   "execution_count": 38,
   "metadata": {},
   "outputs": [],
   "source": [
    "### Event\n",
    "# Window the 8 s segment that contains the event, take the FFT, \n",
    "# and scale by the inverse ASD.\n",
    "h1_event_FD = (h1_event * w).to_frequencyseries()\n",
    "l1_event_FD = (l1_event * w).to_frequencyseries()\n",
    "\n",
    "h1_event_FD_whitened = h1_event_FD / h1_psd ** 0.5\n",
    "l1_event_FD_whitened = l1_event_FD / l1_psd ** 0.5\n",
    "\n",
    "if len(detectors) == 3:\n",
    "    v1_event_FD = (v1_event * w).to_frequencyseries()\n",
    "    v1_event_FD_whitened = v1_event_FD / v1_psd ** 0.5"
   ]
  },
  {
   "cell_type": "code",
   "execution_count": 39,
   "metadata": {},
   "outputs": [],
   "source": [
    "# Zero below 20 Hz and truncate above 1024 Hz. \n",
    "# This is all that is needed for the likelihood integral.\n",
    "\n",
    "f_min = 20.0\n",
    "f_max = 1024.0  # New f_max. Previously it was 2048 Hz.\n",
    "\n",
    "h1_event_FD_whitened[:int(f_min / h1_event_FD_whitened.delta_f)] = 0.0\n",
    "h1_event_FD_whitened = h1_event_FD_whitened[:int(f_max / h1_event_FD_whitened.delta_f)+1]\n",
    "\n",
    "l1_event_FD_whitened[:int(f_min / l1_event_FD_whitened.delta_f)] = 0.0\n",
    "l1_event_FD_whitened = l1_event_FD_whitened[:int(f_max / h1_event_FD_whitened.delta_f)+1]\n",
    "\n",
    "# Apply a time shift to shift the merger to $t=0$. \n",
    "# This should make the event visible in the Fourier transform.\n",
    "h1_event_FD_whitened = h1_event_FD_whitened.cyclic_time_shift(T_buffer)\n",
    "l1_event_FD_whitened = l1_event_FD_whitened.cyclic_time_shift(T_buffer)\n",
    "\n",
    "if len(detectors) == 3:\n",
    "    v1_event_FD_whitened[:int(f_min / v1_event_FD_whitened.delta_f)] = 0.0\n",
    "    v1_event_FD_whitened = v1_event_FD_whitened[:int(f_max / v1_event_FD_whitened.delta_f)+1]    \n",
    "    v1_event_FD_whitened = v1_event_FD_whitened.cyclic_time_shift(T_buffer)"
   ]
  },
  {
   "cell_type": "code",
   "execution_count": 46,
   "metadata": {},
   "outputs": [
    {
     "name": "stdout",
     "output_type": "stream",
     "text": [
      "1.0497358316751446 1.0601141909183767\n"
     ]
    }
   ],
   "source": [
    "### Normalization\n",
    "\n",
    "# The noise is not quite normalized to unit variance in the real and imaginary parts.\n",
    "\n",
    "delta_f = h1_event_FD_whitened.delta_f\n",
    "\n",
    "normalization_1 = 1 / np.sqrt(4 * delta_f)\n",
    "window_factor = np.sum(w ** 2) / (T * f_s)\n",
    "\n",
    "normalization = normalization_1 * np.sqrt(window_factor)\n",
    "normalized_FD = h1_event_FD_whitened.numpy() / normalization\n",
    "print(np.var(normalized_FD.real), np.var(normalized_FD.imag))\n",
    "\n",
    "assert np.allclose(np.var(normalized_FD.real), 1, atol=0.1)\n",
    "assert np.allclose(np.var(normalized_FD.imag), 1, atol=0.1)"
   ]
  },
  {
   "cell_type": "code",
   "execution_count": null,
   "metadata": {},
   "outputs": [],
   "source": [
    "# Save PSD to file\n",
    "event_dir = Path('../data/events/{}'.format(event))\n",
    "event_dir.mkdir(parents=True, exist_ok=True)\n",
    "\n",
    "h1_psd.save(event_dir / 'PSD_H1.txt')\n",
    "l1_psd.save(event_dir / 'PSD_L1.txt')\n",
    "\n",
    "if len(detectors) == 3:\n",
    "    v1_psd.save(event_dir / 'PSD_V1.txt')"
   ]
  },
  {
   "cell_type": "code",
   "execution_count": null,
   "metadata": {},
   "outputs": [],
   "source": [
    "# Save whitened FD strain data\n",
    "\n",
    "with h5py.File(event_dir / 'strain_FD_whitened.hdf5', 'w') as f:\n",
    "    f.create_dataset('sample_frequencies', data=np.array(h1_event_FD_whitened.sample_frequencies.numpy()))\n",
    "    f.create_dataset('H1', data=h1_event_FD_whitened)\n",
    "    f.create_dataset('L1', data=l1_event_FD_whitened)\n",
    "    if len(detectors) == 3:\n",
    "        f.create_dataset('V1', data=v1_event_FD_whitened)"
   ]
  },
  {
   "cell_type": "code",
   "execution_count": null,
   "metadata": {},
   "outputs": [],
   "source": [
    "# Save additional information\n",
    "\n",
    "with open(event_dir / 'event_info.json', 'w') as f:\n",
    "    json.dump(dict(\n",
    "        event=event,\n",
    "        detectors=detectors,\n",
    "        t_event=t_event,\n",
    "        f_min=f_min,\n",
    "        f_max=f_max,\n",
    "        T=T,\n",
    "        T_psd=T_psd,\n",
    "        T_buffer=T_buffer,\n",
    "        window_factor=window_factor,\n",
    "        window='tukey',\n",
    "        roll_off=roll_off\n",
    "        ), f, indent=4)"
   ]
  },
  {
   "cell_type": "markdown",
   "metadata": {},
   "source": [
    "---\n",
    "\n",
    "# Step.2 生成 hdf5 训练数据"
   ]
  },
  {
   "cell_type": "markdown",
   "metadata": {},
   "source": [
    ">注意：不要 restart kernel\n",
    "\n",
    "<!--\n",
    "\n",
    "for _, d in allevents.items():\n",
    "    if (d['commonName'] in evs) and d['luminosity_distance']:\n",
    "        print(d['commonName'])\n",
    "        print('mass_1_source:', d['mass_1_source'],\n",
    "              str(d['mass_1_source_lower']),\n",
    "              '+'+str(d['mass_1_source_upper']),\n",
    "             \n",
    "             )       \n",
    "        print('mass_2_source:', d['mass_2_source'],\n",
    "              str(d['mass_2_source_lower']),\n",
    "              '+'+str(d['mass_2_source_upper']))             \n",
    "        print('chirp_mass_source:', d['chirp_mass_source'],\n",
    "              str(d['chirp_mass_source_lower']),\n",
    "              '+'+str(d['chirp_mass_source_upper']))\n",
    "        print('luminosity_distance:', d['luminosity_distance'], \n",
    "              str(d['luminosity_distance_lower']),\n",
    "              '+'+str(d['luminosity_distance_upper']),\n",
    "             d['luminosity_distance_unit'])\n",
    "        print()\n",
    "-->\n",
    "- Load lib"
   ]
  },
  {
   "cell_type": "code",
   "execution_count": 96,
   "metadata": {},
   "outputs": [
    {
     "data": {
      "text/plain": [
       "'/root/gwspe'"
      ]
     },
     "execution_count": 96,
     "metadata": {},
     "output_type": "execute_result"
    }
   ],
   "source": [
    "import os\n",
    "os.chdir(\"..\") # 改变工作目录到上一级\n",
    "os.getcwd() # 查看当前工作目录\n",
    "\n",
    "# ['GW150914', 'GW151012','GW151226', 'GW170104', 'GW170608', 'GW170729',\n",
    "#  'GW170809', 'GW170814', 'GW170817', 'GW170818', 'GW170823']"
   ]
  },
  {
   "cell_type": "code",
   "execution_count": 92,
   "metadata": {},
   "outputs": [],
   "source": [
    "# Refine the prior for each event\n",
    "default_mass = [10.0, 80.0]\n",
    "default_distance = [100.0, 1000.0]\n",
    "Ref_prior = dict(\n",
    "    GW150914={'mass_1':default_mass,        # 35.6 -3.1 +4.7\n",
    "              'mass_2':default_mass,        # 30.6 -4.4 +3.0\n",
    "              'distance':default_distance}, # 440.0 -170.0 +150.0\n",
    "    GW151012={'mass_1':[5.0, 80.0],         # 23.2 -5.5 +14.9\n",
    "              'mass_2':[5.0, 80.0],         # 13.6 -4.8 +4.1\n",
    "              'distance':[100.0, 2000.0]},  # 1080.0 -490.0 +550.0\n",
    "    GW151226={'mass_1':[3.0, 80.0],         # 13.7 -3.2 +8.8\n",
    "              'mass_2':[3.0, 80.0],         # 7.7 -2.5 +2.2\n",
    "              'distance':default_distance},  # 450.0 -190.0 +180.0\n",
    "    GW170104={'mass_1':default_mass,         # 30.8 -5.6 +7.3\n",
    "              'mass_2':default_mass,         # 20.0 -4.6 +4.9\n",
    "              'distance':[100.0, 2000.0]},  # 990.0 -430.0 +440.0    \n",
    "    GW170608={'mass_1':[3.0, 80.0],         # 11.0 -1.7 +5.5\n",
    "              'mass_2':[3.0, 80.0],         # 7.6 -2.2 +1.4\n",
    "              'distance':default_distance},  # 320.0 -110.0 +120.0\n",
    "    GW170729={'mass_1':default_mass,         # 50.2 -10.2 +16.2\n",
    "              'mass_2':default_mass,         # 34.0 -10.1 +9.1\n",
    "              'distance':[1000.0, 5000.0]},  # 2840.0 -1360.0 +1400.0\n",
    "    GW170809={'mass_1':default_mass,         # 35.0 -5.9 +8.3\n",
    "              'mass_2':default_mass,         # 23.8 -5.2 +5.1\n",
    "              'distance':[100.0, 2000.0]},  # 1030.0 -390.0 +320.0\n",
    "    GW170814={'mass_1':default_mass,         # 30.6 -3.0 +5.6\n",
    "              'mass_2':default_mass,         # 25.2 -4.0 +2.8\n",
    "              'distance':default_distance},  # 600.0 -220.0 +150.0\n",
    "#     GW170817={'mass_1':[0.1, 8.0],         # 1.46 -0.1 +0.12\n",
    "#               'mass_2':[0.1, 8.0],         # 1.27 -0.09 +0.09\n",
    "#               'distance':[10.0, 100.0]},  # 40.0 -15.0 +7.0\n",
    "    GW170818={'mass_1':default_mass,         # 35.4 -4.7 +7.5\n",
    "              'mass_2':default_mass,         # 26.7 -5.2 +4.3\n",
    "              'distance':[100.0, 2000.0]},  # 1060.0 -380.0 +420.0\n",
    "    GW170823={'mass_1':default_mass,         # 39.5 -6.7 +11.2\n",
    "              'mass_2':default_mass,         # 29.0 -7.8 +6.7\n",
    "              'distance':[100.0, 4000.0]},  # 1940.0 -900.0 +970.0\n",
    ")"
   ]
  },
  {
   "cell_type": "markdown",
   "metadata": {},
   "source": [
    "- 运行下面代码块"
   ]
  },
  {
   "cell_type": "code",
   "execution_count": 52,
   "metadata": {},
   "outputs": [],
   "source": [
    "import lfigw.waveform_generator as wfg\n",
    "\n",
    "wfd = wfg.WaveformDataset(spins_aligned=False, domain='RB',\n",
    "                          extrinsic_at_train=True)\n",
    "\n",
    "wfd.Nrb = 600\n",
    "wfd.approximant = 'IMRPhenomPv2'\n",
    "\n",
    "wfd.load_event('data/events/{}/'.format(event))\n",
    "\n",
    "wfd.importance_sampling = 'uniform_distance'\n",
    "\n",
    "wfd.prior['distance'] = Ref_prior[event]['distance']\n",
    "wfd.prior['a_1'][1] = 0.88\n",
    "wfd.prior['a_2'][1] = 0.88\n",
    "\n",
    "wfd.prior['mass_1'] = Ref_prior[event]['mass_1']\n",
    "wfd.prior['mass_2'] = Ref_prior[event]['mass_2']\n",
    "\n",
    "print('Dataset properties')\n",
    "print('Event', wfd.event)\n",
    "print(wfd.prior)\n",
    "print('f_min', wfd.f_min)\n",
    "print('f_min_psd', wfd.f_min_psd)\n",
    "print('f_max', wfd.f_max)\n",
    "print('T', wfd.time_duration)\n",
    "print('reference time', wfd.ref_time)\n",
    "\n",
    "wfd.generate_reduced_basis(50000)\n",
    "\n",
    "wfd.generate_dataset(1000000)\n",
    "\n",
    "wfd.generate_noisy_test_data(5000)\n",
    "\n",
    "wfd.save('waveforms/{}'.format(event))\n",
    "wfd.save_train('waveforms/{}'.format(event))\n",
    "wfd.save_noisy_test_data('waveforms/{}'.format(event))\n",
    "\n",
    "print('Program complete. Waveform dataset has been saved.')"
   ]
  },
  {
   "cell_type": "markdown",
   "metadata": {},
   "source": [
    "# Step.3 转化为 PCL 用的数据集\n",
    "\n",
    "在最后的这一步，我其实是修改(阉割)了原 `lfigw/gwpe.py` 为 `lfigw/gwpe-dataset.py`，就是为了生成可以直接用来跑 PyTorch 模型的数据集合，所以在主目录中的终端里执行 `./PCL_dataset.sh` 即可。\n",
    "\n",
    ">在终端中执行 `./PCL_dataset.sh` 之前，要记得修改该文件中的参数，里面只有 `data_dir`、 `model_dir` 和 `distance_prior` 需要根据对应的 `event` 数据集合路径和参数进行修改，其他参数都不十分重要。\n",
    "\n",
    "例如：要跑 GW170104 的数据集，就修改为如下：（其中，`distance_prior` 的参数需要参考本 notebook 中 `Ref_prior` 所对应定义的 `distance` 参数）\n",
    "\n",
    "```shell\n",
    "python -m lfigw.gwpe-dataset train new nde \\\n",
    "    --data_dir waveforms/GW170104/ \\\n",
    "    --model_dir models/GW170104/ \\\n",
    "    --nbins 8 \\\n",
    "    --num_transform_blocks 10 \\\n",
    "    --nflows 15 \\\n",
    "    --batch_norm \\\n",
    "    --batch_size 16 \\\n",
    "    --lr 0.0002 \\\n",
    "    --epochs 500 \\\n",
    "    --distance_prior_fn uniform_distance \\\n",
    "    --distance_prior 100.0 2000.0 \\\n",
    "    --hidden_dims 512 \\\n",
    "    --truncate_basis 100 \\\n",
    "    --activation elu \\\n",
    "    --lr_anneal_method cosine\n",
    "```\n",
    "\n",
    "其会在主目录的 `PCL_GWML_demo/data/` 中生成对应 event 的训练和测试数据集。"
   ]
  },
  {
   "cell_type": "code",
   "execution_count": 107,
   "metadata": {},
   "outputs": [
    {
     "data": {
      "text/plain": [
       "('GW151226',\n",
       " {'mass_1': [3.0, 80.0], 'mass_2': [3.0, 80.0], 'distance': [100.0, 1000.0]})"
      ]
     },
     "execution_count": 107,
     "metadata": {},
     "output_type": "execute_result"
    }
   ],
   "source": [
    "event, Ref_prior[event]"
   ]
  },
  {
   "cell_type": "code",
   "execution_count": null,
   "metadata": {},
   "outputs": [],
   "source": []
  },
  {
   "cell_type": "code",
   "execution_count": null,
   "metadata": {},
   "outputs": [],
   "source": []
  },
  {
   "cell_type": "code",
   "execution_count": null,
   "metadata": {},
   "outputs": [],
   "source": []
  },
  {
   "cell_type": "code",
   "execution_count": null,
   "metadata": {},
   "outputs": [],
   "source": []
  }
 ],
 "metadata": {
  "kernelspec": {
   "display_name": "Python 3",
   "language": "python",
   "name": "python3"
  },
  "language_info": {
   "codemirror_mode": {
    "name": "ipython",
    "version": 3
   },
   "file_extension": ".py",
   "mimetype": "text/x-python",
   "name": "python",
   "nbconvert_exporter": "python",
   "pygments_lexer": "ipython3",
   "version": "3.6.8"
  }
 },
 "nbformat": 4,
 "nbformat_minor": 4
}
